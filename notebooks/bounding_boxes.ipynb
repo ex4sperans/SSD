{
 "cells": [
  {
   "cell_type": "code",
   "execution_count": 58,
   "metadata": {},
   "outputs": [],
   "source": [
    "import matplotlib.pyplot as plt\n",
    "from scipy.misc import imread, imresize"
   ]
  },
  {
   "cell_type": "code",
   "execution_count": 60,
   "metadata": {},
   "outputs": [],
   "source": [
    "def add_bboxes(ax, bboxes):\n",
    "\n",
    "    for bbox in bboxes:\n",
    "        xmin, ymin, xmax, ymax = bbox \n",
    "        bx = (xmin, xmax, xmax, xmin, xmin)\n",
    "        by = (ymin, ymin, ymax, ymax, ymin)\n",
    "        ax.plot(bx, by, c=\"blue\", lw=0.5)\n",
    "    \n",
    "        bbox_props = dict(boxstyle=\"square,pad=0.3\",\n",
    "                          fc=\"blue\", ec=\"blue\", lw=0.5)\n",
    "        text = \"cat\"\n",
    "        ax.text(xmin, ymin, text, ha='center', va='center',\n",
    "                size=1, color='black', bbox=bbox_props,\n",
    "                fontweight='semibold')\n"
   ]
  },
  {
   "cell_type": "code",
   "execution_count": 62,
   "metadata": {},
   "outputs": [
    {
     "data": {
      "image/png": "[encoded data removed]",
      "text/plain": [
       "<matplotlib.figure.Figure at 0x7fa6d8e20be0>"
      ]
     },
     "metadata": {},
     "output_type": "display_data"
    }
   ],
   "source": [
    "dpi = 800\n",
    "image = imread(\"images/000119.jpg\")\n",
    "image = imresize(image, (512, 512))\n",
    "\n",
    "\n",
    "h, w, d = image.shape\n",
    "\n",
    "fig = plt.figure(figsize=(w / dpi, h / dpi), frameon=False)\n",
    "\n",
    "ax = plt.Axes(fig, [0., 0., 1., 1.])\n",
    "ax.set_axis_off()\n",
    "fig.add_axes(ax)\n",
    "\n",
    "add_bboxes(ax, [(30, 40, 150, 280)])\n",
    "ax.imshow(image, aspect='auto', interpolation=\"none\")\n",
    "\n",
    "fig.savefig(\"output.jpg\", dpi=dpi)"
   ]
  }
 ],
 "metadata": {
  "kernelspec": {
   "display_name": "Python 3",
   "language": "python",
   "name": "python3"
  },
  "language_info": {
   "codemirror_mode": {
    "name": "ipython",
    "version": 3
   },
   "file_extension": ".py",
   "mimetype": "text/x-python",
   "name": "python",
   "nbconvert_exporter": "python",
   "pygments_lexer": "ipython3",
   "version": "3.5.2"
  }
 },
 "nbformat": 4,
 "nbformat_minor": 2
}
