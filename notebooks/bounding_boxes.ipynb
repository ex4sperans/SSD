{
 "cells": [
  {
   "cell_type": "code",
   "execution_count": 1,
   "metadata": {},
   "outputs": [],
   "source": [
    "import sys\n",
    "sys.path.append(\"../\")\n",
    "\n",
    "import matplotlib.pyplot as plt\n",
    "from scipy.misc import imread, imresize\n",
    "\n",
    "from containers.image import AnnotatedImage\n",
    "from datasets.voc_dataset import VOCDataset"
   ]
  },
  {
   "cell_type": "code",
   "execution_count": 2,
   "metadata": {},
   "outputs": [
    {
     "name": "stderr",
     "output_type": "stream",
     "text": [
      "Loading VOC: 100%|████████████████████████| 20/20 [00:00<00:00, 195.23it/s]\n"
     ]
    }
   ],
   "source": [
    "dataset = VOCDataset(\"../data/VOC/VOCtrainval_06-Nov-2007/VOCdevkit/VOC2007/JPEGImages/\",\n",
    "                     \"../data/VOC/VOCtrainval_06-Nov-2007/VOCdevkit/VOC2007/Annotations/\",\n",
    "                     max_samples=20)"
   ]
  },
  {
   "cell_type": "code",
   "execution_count": 3,
   "metadata": {},
   "outputs": [],
   "source": [
    "for image in dataset.images:\n",
    "    image = image.random_crop(probability=1.0)\n",
    "    image.plot_image_with_bboxes(save_path=\"./ground_truth_boxes\", filename=image.filename,\n",
    "                                 colormap=dataset.colormap)"
   ]
  }
 ],
 "metadata": {
  "kernelspec": {
   "display_name": "Python 3",
   "language": "python",
   "name": "python3"
  },
  "language_info": {
   "codemirror_mode": {
    "name": "ipython",
    "version": 3
   },
   "file_extension": ".py",
   "mimetype": "text/x-python",
   "name": "python",
   "nbconvert_exporter": "python",
   "pygments_lexer": "ipython3",
   "version": "3.5.2"
  }
 },
 "nbformat": 4,
 "nbformat_minor": 2
}
