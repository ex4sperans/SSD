{
 "cells": [
  {
   "cell_type": "code",
   "execution_count": 1,
   "metadata": {},
   "outputs": [],
   "source": [
    "import sys\n",
    "sys.path.append(\"../\")\n",
    "\n",
    "import matplotlib.pyplot as plt\n",
    "from scipy.misc import imread, imresize\n",
    "\n",
    "from image import AnnotatedImage"
   ]
  },
  {
   "cell_type": "code",
   "execution_count": 2,
   "metadata": {},
   "outputs": [],
   "source": [
    "IMAGE = \"../tests/data/000010.jpg\"\n",
    "ANNOTATION = \"../tests/data/000010.xml\"\n",
    "\n",
    "image = AnnotatedImage.load(IMAGE, ANNOTATION)"
   ]
  },
  {
   "cell_type": "code",
   "execution_count": 3,
   "metadata": {},
   "outputs": [],
   "source": [
    "image.plot(save_path=\"./\", filename=\"unknown\")\n",
    "image.plot_bboxes(save_path=\"./\", filename=\"unknown_with_bboxes\")\n",
    "\n",
    "image.resize((300, 300)).plot(save_path=\"./\", filename=\"unknown\")\n",
    "image.resize((300, 300)).plot_bboxes(save_path=\"./\", filename=\"unknown_with_bboxes\")\n"
   ]
  }
 ],
 "metadata": {
  "kernelspec": {
   "display_name": "Python 3",
   "language": "python",
   "name": "python3"
  },
  "language_info": {
   "codemirror_mode": {
    "name": "ipython",
    "version": 3
   },
   "file_extension": ".py",
   "mimetype": "text/x-python",
   "name": "python",
   "nbconvert_exporter": "python",
   "pygments_lexer": "ipython3",
   "version": "3.5.2"
  }
 },
 "nbformat": 4,
 "nbformat_minor": 2
}
