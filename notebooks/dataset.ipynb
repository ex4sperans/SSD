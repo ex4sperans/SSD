{
 "cells": [
  {
   "cell_type": "code",
   "execution_count": 1,
   "metadata": {},
   "outputs": [],
   "source": [
    "import sys\n",
    "sys.path.append(\"../\")\n",
    "\n",
    "import pandas as pd\n",
    "pd.set_option('expand_frame_repr', False)\n",
    "\n",
    "from datasets.voc_dataset import VOCDataset\n",
    "from ops.default_boxes import get_default_boxes"
   ]
  },
  {
   "cell_type": "code",
   "execution_count": 2,
   "metadata": {},
   "outputs": [
    {
     "name": "stderr",
     "output_type": "stream",
     "text": [
      "Loading VOC: 100%|████████████████████| 2000/2000 [00:06<00:00, 288.46it/s]\n"
     ]
    }
   ],
   "source": [
    "dataset = VOCDataset(\"../data/VOC/VOCtrainval_06-Nov-2007/VOCdevkit/VOC2007/JPEGImages/\",\n",
    "                     \"../data/VOC/VOCtrainval_06-Nov-2007/VOCdevkit/VOC2007/Annotations/\",\n",
    "                     max_samples=2000)"
   ]
  },
  {
   "cell_type": "code",
   "execution_count": null,
   "metadata": {},
   "outputs": [],
   "source": [
    "default_boxes = get_default_boxes([(38, 38, 64), (17, 17, 32), (9, 9, 32), (5, 5, 32), (3, 3, 32), (1, 1, 64)],\n",
    "                                  [(1, 1/2, 2, 3, 1/3)] * 6)"
   ]
  },
  {
   "cell_type": "code",
   "execution_count": null,
   "metadata": {},
   "outputs": [],
   "source": [
    "for image in dataset.images:\n",
    "    image.plot_matching_bboxes(\"./matching_bboxes\", default_boxes, 0.4,\n",
    "                               dataset.class_mapping, dataset.colormap,\n",
    "                               background_class=dataset.background)"
   ]
  }
 ],
 "metadata": {
  "kernelspec": {
   "display_name": "Python 3",
   "language": "python",
   "name": "python3"
  },
  "language_info": {
   "codemirror_mode": {
    "name": "ipython",
    "version": 3
   },
   "file_extension": ".py",
   "mimetype": "text/x-python",
   "name": "python",
   "nbconvert_exporter": "python",
   "pygments_lexer": "ipython3",
   "version": "3.5.2"
  }
 },
 "nbformat": 4,
 "nbformat_minor": 2
}
