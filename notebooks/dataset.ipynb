{
 "cells": [
  {
   "cell_type": "code",
   "execution_count": 1,
   "metadata": {},
   "outputs": [],
   "source": [
    "import sys\n",
    "sys.path.append(\"../\")\n",
    "\n",
    "import pandas as pd\n",
    "pd.set_option('expand_frame_repr', False)\n",
    "\n",
    "from datasets.voc_dataset import VOCDataset\n",
    "from ops.default_boxes import get_default_boxes"
   ]
  },
  {
   "cell_type": "code",
   "execution_count": 2,
   "metadata": {},
   "outputs": [
    {
     "name": "stderr",
     "output_type": "stream",
     "text": [
      "Loading VOC: 5011it [00:20, 245.56it/s]\n"
     ]
    }
   ],
   "source": [
    "dataset = VOCDataset(\"../data/VOC/VOCtrainval_06-Nov-2007/VOCdevkit/VOC2007/JPEGImages/\",\n",
    "                     \"../data/VOC/VOCtrainval_06-Nov-2007/VOCdevkit/VOC2007/Annotations/\")"
   ]
  },
  {
   "cell_type": "code",
   "execution_count": 3,
   "metadata": {},
   "outputs": [],
   "source": [
    "default_boxes = get_default_boxes([(5, 5, 32), (3, 3, 64), (1, 1, 64)], [(1, 1/3, 3), (1, 1/3, 3), (1, 1/3, 3)])"
   ]
  },
  {
   "cell_type": "code",
   "execution_count": 4,
   "metadata": {},
   "outputs": [],
   "source": [
    "for image in dataset.images[40:50]:\n",
    "    image.plot_matching_bboxes(\"./\", default_boxes, 0.5, dataset.class_mapping, dataset.colormap)"
   ]
  }
 ],
 "metadata": {
  "kernelspec": {
   "display_name": "Python 3",
   "language": "python",
   "name": "python3"
  },
  "language_info": {
   "codemirror_mode": {
    "name": "ipython",
    "version": 3
   },
   "file_extension": ".py",
   "mimetype": "text/x-python",
   "name": "python",
   "nbconvert_exporter": "python",
   "pygments_lexer": "ipython3",
   "version": "3.5.2"
  }
 },
 "nbformat": 4,
 "nbformat_minor": 2
}
