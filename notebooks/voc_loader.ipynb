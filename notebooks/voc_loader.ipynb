{
 "cells": [
  {
   "cell_type": "code",
   "execution_count": 1,
   "metadata": {},
   "outputs": [],
   "source": [
    "import sys\n",
    "sys.path.append(\"../\")\n",
    "\n",
    "from loaders.voc_loader import VOCLoader\n",
    "from ops.default_boxes import get_default_boxes"
   ]
  },
  {
   "cell_type": "code",
   "execution_count": 3,
   "metadata": {},
   "outputs": [
    {
     "name": "stderr",
     "output_type": "stream",
     "text": [
      "Loading VOC_train: 100%|█████████████████| 100/100 [00:02<00:00, 36.03it/s]\n",
      "Loading VOC_test: 100%|██████████████████| 100/100 [00:02<00:00, 38.65it/s]\n"
     ]
    }
   ],
   "source": [
    "default_boxes = get_default_boxes([(9, 9, 32), (5, 5, 32)], [(1, 1/3, 3), (1, 1/2, 2)])\n",
    "\n",
    "loader = VOCLoader(\"../data/VOC/VOCtrainval_06-Nov-2007/VOCdevkit/VOC2007/JPEGImages/\",\n",
    "                   \"../data/VOC/VOCtrainval_06-Nov-2007/VOCdevkit/VOC2007/Annotations/\",\n",
    "                   \"../data/VOC/VOCtest_06-Nov-2007/VOCdevkit/VOC2007/JPEGImages/\",\n",
    "                   \"../data/VOC/VOCtest_06-Nov-2007/VOCdevkit/VOC2007/Annotations/\",\n",
    "                   default_boxes=default_boxes,\n",
    "                   resize_to=(300, 300, 3),\n",
    "                   matching_threshold=0.45,\n",
    "                   train_transform=lambda image: (image\n",
    "                                                  .normalize(255)\n",
    "                                                  .normalize_bboxes()),\n",
    "                   test_transform=lambda image: (image\n",
    "                                                 .normalize(255)\n",
    "                                                 .normalize_bboxes()),\n",
    "                   max_samples=100)"
   ]
  },
  {
   "cell_type": "code",
   "execution_count": 5,
   "metadata": {},
   "outputs": [
    {
     "name": "stdout",
     "output_type": "stream",
     "text": [
      "(32, 300, 300, 3) (32, 318) (32, 318, 4)\n",
      "(32, 300, 300, 3) (32, 318) (32, 318, 4)\n",
      "(32, 300, 300, 3) (32, 318) (32, 318, 4)\n",
      "(32, 300, 300, 3) (32, 318) (32, 318, 4)\n",
      "(32, 300, 300, 3) (32, 318) (32, 318, 4)\n"
     ]
    }
   ],
   "source": [
    "for image, labels, offsets in loader.random_train_iterator(batch_size=32, iterations=5):\n",
    "    print(image.shape, labels.shape, offsets.shape)"
   ]
  },
  {
   "cell_type": "code",
   "execution_count": null,
   "metadata": {},
   "outputs": [],
   "source": []
  }
 ],
 "metadata": {
  "kernelspec": {
   "display_name": "Python 3",
   "language": "python",
   "name": "python3"
  },
  "language_info": {
   "codemirror_mode": {
    "name": "ipython",
    "version": 3
   },
   "file_extension": ".py",
   "mimetype": "text/x-python",
   "name": "python",
   "nbconvert_exporter": "python",
   "pygments_lexer": "ipython3",
   "version": "3.5.2"
  }
 },
 "nbformat": 4,
 "nbformat_minor": 2
}
